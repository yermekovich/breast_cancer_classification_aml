{
 "cells": [
  {
   "cell_type": "code",
   "execution_count": null,
   "metadata": {
    "id": "SvZYYKO35sNn"
   },
   "outputs": [],
   "source": [
    "import os\n",
    "import shutil\n",
    "import kagglehub\n",
    "import numpy as npl*\n",
    "import tensorflow as tf\n",
    "from PIL import Image, UnidentifiedImageError\n",
    "from tensorflow.keras import layers, models\n",
    "from sklearn.model_selection import train_test_split\n",
    "from sklearn.preprocessing import LabelBinarizer\n",
    "from sklearn.metrics import classification_report\n",
    "from tensorflow.keras.applications import ResNet50\n",
    "from tensorflow.keras.applications.resnet50 import preprocess_input\n",
    "from tensorflow.keras.callbacks import Callbacka\n",
    "from collections import Counter\n",
    "from sklearn.metrics import accuracy_score, f1_score, precision_score, recall_score\n",
    "import torch\n",
    "from torch import nn\n",
    "import torch.optim as optim\n",
    "from torchvision import transforms, models\n",
    "from torch.utils.data import DataLoader, Dataset\n",
    "import matplotlib.pyplot as plt\n",
    "import random"
   ]
  },
  {
   "cell_type": "code",
   "execution_count": 2,
   "metadata": {
    "colab": {
     "base_uri": "https://localhost:8080/"
    },
    "id": "OFrvdrohy_aD",
    "outputId": "c4963581-38dc-4924-bd62-0a98dc5f97e2"
   },
   "outputs": [
    {
     "name": "stdout",
     "output_type": "stream",
     "text": [
      "cuda\n"
     ]
    }
   ],
   "source": [
    "device = torch.device(\"cuda\" if torch.cuda.is_available() else \"cpu\")\n",
    "print('cuda' if torch.cuda.is_available() else 'cpu')"
   ]
  },
  {
   "cell_type": "code",
   "execution_count": 3,
   "metadata": {
    "id": "k-ZTfGghvJlt"
   },
   "outputs": [],
   "source": [
    "class AccuracyChangeCallback(Callback):\n",
    "    def __init__(self, min_epochs, min_delta):\n",
    "        super(AccuracyChangeCallback, self).__init__()\n",
    "        self.min_epochs = min_epochs\n",
    "        self.min_delta = min_delta\n",
    "        self.last_accuracy = None\n",
    "\n",
    "    def on_epoch_end(self, epoch, logs=None):\n",
    "        current_accuracy = logs.get(\"accuracy\")\n",
    "        if epoch + 1 < self.min_epochs:\n",
    "            self.last_accuracy = current_accuracy\n",
    "            return\n",
    "\n",
    "        if self.last_accuracy is not None:\n",
    "            accuracy_change = current_accuracy - self.last_accuracy\n",
    "            if accuracy_change < self.min_delta:\n",
    "                print(f\"\\nAccuracy change {accuracy_change:.4f} is less than {self.min_delta}. Stopping training.\")\n",
    "                self.model.stop_training = True\n",
    "\n",
    "        self.last_accuracy = current_accuracy"
   ]
  },
  {
   "cell_type": "code",
   "execution_count": 4,
   "metadata": {
    "id": "FtRnlmQ20np1"
   },
   "outputs": [],
   "source": [
    "destination=\"/content\""
   ]
  },
  {
   "cell_type": "code",
   "execution_count": 5,
   "metadata": {
    "colab": {
     "base_uri": "https://localhost:8080/"
    },
    "id": "s31-RvS9zjeX",
    "outputId": "9920e44c-f79b-470b-e673-0c0a8ee8c6c9"
   },
   "outputs": [
    {
     "name": "stdout",
     "output_type": "stream",
     "text": [
      "Downloading the dataset...\n",
      "Dataset moved to: /content\n"
     ]
    }
   ],
   "source": [
    "\n",
    "    print(\"Downloading the dataset...\")\n",
    "    dataset_path = kagglehub.dataset_download(\"aryashah2k/breast-ultrasound-images-dataset\")\n",
    "\n",
    "    if not os.path.exists(destination):\n",
    "        os.makedirs(destination)\n",
    "\n",
    "    for item in os.listdir(dataset_path):\n",
    "        src_path = os.path.join(dataset_path, item)\n",
    "        dest_path = os.path.join(destination, item)\n",
    "        if os.path.isdir(src_path):\n",
    "            shutil.copytree(src_path, dest_path, dirs_exist_ok=True)\n",
    "        else:\n",
    "            shutil.copy2(src_path, dest_path)\n",
    "\n",
    "    print(\"Dataset moved to:\", destination)"
   ]
  },
  {
   "cell_type": "code",
   "execution_count": 6,
   "metadata": {
    "id": "-0O6gU9vwJi1"
   },
   "outputs": [],
   "source": [
    "data_dir = \"/content/Dataset_BUSI_with_GT\""
   ]
  },
  {
   "cell_type": "code",
   "execution_count": 7,
   "metadata": {
    "id": "rBvw8q9lvRWi"
   },
   "outputs": [],
   "source": [
    "def load_image_paths_and_labels(data_dir):\n",
    "    \"\"\"\n",
    "    Load valid image paths and their corresponding labels from the dataset directory.\n",
    "\n",
    "    Args:\n",
    "        data_dir (str): Path to the dataset directory containing subdirectories for each class.\n",
    "\n",
    "    Returns:\n",
    "        list: A list of valid image paths.\n",
    "        list: A list of corresponding labels.\n",
    "    \"\"\"\n",
    "    image_paths, labels = [], []\n",
    "    for label, category in enumerate(os.listdir(data_dir)):\n",
    "        category_path = os.path.join(data_dir, category)\n",
    "        if not os.path.isdir(category_path):\n",
    "            continue\n",
    "        for img_name in os.listdir(category_path):\n",
    "            img_path = os.path.join(category_path, img_name)\n",
    "            try:\n",
    "\n",
    "                with Image.open(img_path) as img:\n",
    "                    img.verify()\n",
    "                image_paths.append(img_path)\n",
    "                labels.append(label)\n",
    "            except (UnidentifiedImageError, OSError):\n",
    "                print(f\"Skipping invalid image: {img_path}\")\n",
    "                continue\n",
    "    return image_paths, labels\n"
   ]
  },
  {
   "cell_type": "code",
   "execution_count": 8,
   "metadata": {
    "id": "oVo6yYNOwSCz"
   },
   "outputs": [],
   "source": [
    "image_paths, labels = load_image_paths_and_labels(data_dir)"
   ]
  },
  {
   "cell_type": "code",
   "execution_count": 9,
   "metadata": {
    "id": "6TeOhCD-wmzx"
   },
   "outputs": [],
   "source": [
    "categories = [category for category in os.listdir(data_dir) if os.path.isdir(os.path.join(data_dir, category))]"
   ]
  },
  {
   "cell_type": "code",
   "execution_count": 10,
   "metadata": {
    "colab": {
     "base_uri": "https://localhost:8080/"
    },
    "id": "qMMumjB5wp0j",
    "outputId": "d3158f8e-2494-4637-d4db-33e1b133c73f"
   },
   "outputs": [
    {
     "name": "stdout",
     "output_type": "stream",
     "text": [
      "Category distribution: {0: 266, 1: 421, 2: 891}\n"
     ]
    }
   ],
   "source": [
    "counts = Counter(labels)\n",
    "print(\"Category distribution:\", dict(counts))"
   ]
  },
  {
   "cell_type": "code",
   "execution_count": 11,
   "metadata": {
    "colab": {
     "base_uri": "https://localhost:8080/"
    },
    "id": "ht52q2lqwpxO",
    "outputId": "e3f8a276-9af3-4826-f2d6-468ce5192eac"
   },
   "outputs": [
    {
     "name": "stdout",
     "output_type": "stream",
     "text": [
      "Image Sizes: Min (190x310), Max (1048x719), Avg (616.1x501.6)\n"
     ]
    }
   ],
   "source": [
    "sizes = [Image.open(p).size for p in image_paths]\n",
    "widths, heights = zip(*sizes)\n",
    "print(f\"Image Sizes: Min ({min(widths)}x{min(heights)}), Max ({max(widths)}x{max(heights)}), Avg ({np.mean(widths):.1f}x{np.mean(heights):.1f})\")"
   ]
  },
  {
   "cell_type": "code",
   "execution_count": 12,
   "metadata": {
    "colab": {
     "base_uri": "https://localhost:8080/",
     "height": 160
    },
    "id": "iXSw1jrqwpud",
    "outputId": "359781a0-a48d-40c8-a74c-cbdb831b6fcc"
   },
   "outputs": [
    {
     "name": "stdout",
     "output_type": "stream",
     "text": [
      "Sample Images:\n"
     ]
    },
    {
     "data": {
      "image/png": "[encoded data removed]",
      "text/plain": [
       "<Figure size 1500x500 with 10 Axes>"
      ]
     },
     "metadata": {},
     "output_type": "display_data"
    }
   ],
   "source": [
    "print(\"Sample Images:\")\n",
    "plt.figure(figsize=(15, 5))\n",
    "for i in range(10):\n",
    "    idx = random.randint(0, len(image_paths) - 1)\n",
    "    img = Image.open(image_paths[idx])\n",
    "    plt.subplot(1, 10, i + 1)\n",
    "    plt.imshow(img)\n",
    "    plt.title(categories[labels[idx]])\n",
    "    plt.axis(\"off\")\n",
    "plt.show()"
   ]
  },
  {
   "cell_type": "code",
   "execution_count": 13,
   "metadata": {
    "id": "YXzhzTLDwpru"
   },
   "outputs": [],
   "source": [
    "image_paths, labels = load_image_paths_and_labels(data_dir)\n",
    "X_train, X_test, y_train, y_test = train_test_split(image_paths, labels, test_size=0.2, random_state=42)"
   ]
  },
  {
   "cell_type": "code",
   "execution_count": 14,
   "metadata": {
    "id": "Emdrp6mmrQvj"
   },
   "outputs": [],
   "source": [
    "class_weights = torch.tensor(\n",
    "    [1.0 / Counter(y_train).get(i, 1) for i in range(len(categories))]\n",
    ").to(device)\n",
    "criterion = nn.CrossEntropyLoss(weight=class_weights)\n"
   ]
  },
  {
   "cell_type": "code",
   "execution_count": 15,
   "metadata": {
    "id": "BCv4wTihwpo_"
   },
   "outputs": [],
   "source": [
    "class BreastCancerDataset(Dataset):\n",
    "    def __init__(self, image_paths, labels, transform=None):\n",
    "        self.image_paths = image_paths\n",
    "        self.labels = labels\n",
    "        self.transform = transform\n",
    "\n",
    "    def __len__(self):\n",
    "        return len(self.image_paths)\n",
    "\n",
    "    def __getitem__(self, idx):\n",
    "        image = Image.open(self.image_paths[idx]).convert(\"RGB\")\n",
    "        label = self.labels[idx]\n",
    "        if self.transform:\n",
    "            image = self.transform(image)\n",
    "        return image, label\n",
    "\n",
    "train_transform = transforms.Compose([\n",
    "    transforms.Resize((128, 128)),\n",
    "    transforms.RandomHorizontalFlip(p=0.5),\n",
    "    transforms.RandomRotation(15),\n",
    "    transforms.ColorJitter(brightness=0.2, contrast=0.2, saturation=0.2, hue=0.1),\n",
    "    transforms.ToTensor(),\n",
    "    transforms.Normalize(mean=[0.485, 0.456, 0.406], std=[0.229, 0.224, 0.225])\n",
    "])\n",
    "\n",
    "test_transform = transforms.Compose([\n",
    "    transforms.Resize((128, 128)),\n",
    "    transforms.ToTensor(),\n",
    "    transforms.Normalize(mean=[0.485, 0.456, 0.406], std=[0.229, 0.224, 0.225])  # Normalize to match pretrained model input\n",
    "])\n",
    "\n",
    "\n",
    "train_loader = DataLoader(\n",
    "    BreastCancerDataset(X_train, y_train, transform=train_transform),\n",
    "    batch_size=32, shuffle=True\n",
    ")\n",
    "\n",
    "test_loader = DataLoader(\n",
    "    BreastCancerDataset(X_test, y_test, transform=test_transform),\n",
    "    batch_size=32, shuffle=False\n",
    ")"
   ]
  },
  {
   "cell_type": "code",
   "execution_count": 16,
   "metadata": {
    "id": "2IyNSnNlwpm2"
   },
   "outputs": [],
   "source": [
    "baseline_model = models.resnet50(weights=models.ResNet50_Weights.DEFAULT)\n",
    "baseline_model.fc = nn.Sequential(\n",
    "    nn.Linear(baseline_model.fc.in_features, 512),\n",
    "    nn.ReLU(),\n",
    "    nn.Dropout(0.5),\n",
    "    nn.Linear(512, len(categories))\n",
    ")\n",
    "baseline_model = baseline_model.to(device)"
   ]
  },
  {
   "cell_type": "code",
   "execution_count": 17,
   "metadata": {
    "id": "z5KUatWcyaIG"
   },
   "outputs": [],
   "source": [
    "class EnhancedModel(nn.Module):\n",
    "    def __init__(self, base_model, num_classes):\n",
    "        super(EnhancedModel, self).__init__()\n",
    "        self.base = base_model\n",
    "\n",
    "        self.fc = nn.Sequential(\n",
    "            nn.Linear(3, 512),\n",
    "            nn.ReLU(),\n",
    "            nn.Linear(512, num_classes)\n",
    "        )\n",
    "\n",
    "    def forward(self, x):\n",
    "        x = self.base(x)\n",
    "\n",
    "        x = x.view(x.size(0), -1)\n",
    "\n",
    "        return self.fc(x)\n",
    "\n",
    "enhanced_model = EnhancedModel(baseline_model, len(set(labels))).to(device)"
   ]
  },
  {
   "cell_type": "code",
   "execution_count": 18,
   "metadata": {
    "id": "QzA4u_KjyaEi"
   },
   "outputs": [],
   "source": [
    "def train_model(model, loader, optimizer, criterion, scheduler=None):\n",
    "    model.train()\n",
    "    total_loss = 0\n",
    "    for images, labels in loader:\n",
    "        images, labels = images.to(device), labels.to(device)\n",
    "        optimizer.zero_grad()\n",
    "        outputs = model(images)\n",
    "        loss = criterion(outputs, labels)\n",
    "        loss.backward()\n",
    "        optimizer.step()\n",
    "        total_loss += loss.item()\n",
    "    if scheduler:\n",
    "        scheduler.step()  # Update the scheduler if provided\n",
    "    return total_loss / len(loader)"
   ]
  },
  {
   "cell_type": "code",
   "execution_count": 19,
   "metadata": {
    "id": "TwA0VVhkyaCL"
   },
   "outputs": [],
   "source": [
    "def validate_model(model, loader, criterion):\n",
    "    model.eval()\n",
    "    total_loss, y_true, y_pred = 0, [], []\n",
    "    with torch.no_grad():\n",
    "        for images, labels in loader:\n",
    "            images, labels = images.to(device), labels.to(device)\n",
    "            outputs = model(images)\n",
    "            total_loss += criterion(outputs, labels).item()\n",
    "            _, preds = torch.max(outputs, 1)\n",
    "            y_true.extend(labels.cpu().numpy())\n",
    "            y_pred.extend(preds.cpu().numpy())\n",
    "    metrics = {\n",
    "        \"loss\": total_loss / len(loader),\n",
    "        \"accuracy\": accuracy_score(y_true, y_pred),\n",
    "        \"f1\": f1_score(y_true, y_pred, average=\"weighted\"),\n",
    "        \"precision\": precision_score(y_true, y_pred, average=\"weighted\"),\n",
    "        \"recall\": recall_score(y_true, y_pred, average=\"weighted\")\n",
    "    }\n",
    "    return metrics"
   ]
  },
  {
   "cell_type": "code",
   "execution_count": 20,
   "metadata": {
    "id": "aSghQSrcyaAA"
   },
   "outputs": [],
   "source": [
    "def train_and_validate(model, train_loader, test_loader, epochs=15):\n",
    "    criterion = nn.CrossEntropyLoss(weight=class_weights)\n",
    "    optimizer = optim.Adam(model.parameters(), lr=0.001)\n",
    "    scheduler = optim.lr_scheduler.StepLR(optimizer, step_size=5, gamma=0.1)\n",
    "    best_accuracy = 0\n",
    "\n",
    "    for epoch in range(epochs):\n",
    "        train_loss = train_model(model, train_loader, optimizer, criterion, scheduler)\n",
    "        metrics = validate_model(model, test_loader, criterion)\n",
    "        if metrics[\"accuracy\"] > best_accuracy:\n",
    "            best_accuracy = metrics[\"accuracy\"]\n",
    "            torch.save(model.state_dict(), \"best_model.pth\")\n",
    "        print(f\"Epoch {epoch + 1}/{epochs} | Train Loss: {train_loss:.4f} | Val Metrics: {metrics}\")\n",
    "\n",
    "    return model"
   ]
  },
  {
   "cell_type": "code",
   "execution_count": 21,
   "metadata": {
    "colab": {
     "base_uri": "https://localhost:8080/"
    },
    "id": "ZkVZGeFmyZ9k",
    "outputId": "cb078fb6-e3d2-495f-c532-b1d00b703a55"
   },
   "outputs": [
    {
     "name": "stdout",
     "output_type": "stream",
     "text": [
      "Training Baseline Model...\n",
      "Epoch 1/15 | Train Loss: 0.6428 | Val Metrics: {'loss': 0.6077143520116806, 'accuracy': 0.75, 'f1': 0.7530239349433717, 'precision': 0.773089215960245, 'recall': 0.75}\n",
      "Epoch 2/15 | Train Loss: 0.5063 | Val Metrics: {'loss': 0.9364059329032898, 'accuracy': 0.7278481012658228, 'f1': 0.7038624748464074, 'precision': 0.7873927268826432, 'recall': 0.7278481012658228}\n",
      "Epoch 3/15 | Train Loss: 0.4293 | Val Metrics: {'loss': 0.5025643140077591, 'accuracy': 0.819620253164557, 'f1': 0.8188833314126527, 'precision': 0.820150349035212, 'recall': 0.819620253164557}\n",
      "Epoch 4/15 | Train Loss: 0.4290 | Val Metrics: {'loss': 0.8514767304062844, 'accuracy': 0.7246835443037974, 'f1': 0.7261745139674041, 'precision': 0.769992689122587, 'recall': 0.7246835443037974}\n",
      "Epoch 5/15 | Train Loss: 0.3691 | Val Metrics: {'loss': 0.4382022276520729, 'accuracy': 0.7848101265822784, 'f1': 0.7910343306483946, 'precision': 0.8336410819942514, 'recall': 0.7848101265822784}\n",
      "Epoch 6/15 | Train Loss: 0.2668 | Val Metrics: {'loss': 0.3366589695215225, 'accuracy': 0.8544303797468354, 'f1': 0.8544330425509138, 'precision': 0.8583821024771046, 'recall': 0.8544303797468354}\n",
      "Epoch 7/15 | Train Loss: 0.2518 | Val Metrics: {'loss': 0.35877364277839663, 'accuracy': 0.8575949367088608, 'f1': 0.8579556870696111, 'precision': 0.866213510720744, 'recall': 0.8575949367088608}\n",
      "Epoch 8/15 | Train Loss: 0.2332 | Val Metrics: {'loss': 0.33309092819690705, 'accuracy': 0.8670886075949367, 'f1': 0.8674170471666832, 'precision': 0.8710396153021135, 'recall': 0.8670886075949367}\n",
      "Epoch 9/15 | Train Loss: 0.2027 | Val Metrics: {'loss': 0.3401553317904472, 'accuracy': 0.870253164556962, 'f1': 0.8703973261523129, 'precision': 0.8782235307732024, 'recall': 0.870253164556962}\n",
      "Epoch 10/15 | Train Loss: 0.1863 | Val Metrics: {'loss': 0.3099097602069378, 'accuracy': 0.8670886075949367, 'f1': 0.8670948913263561, 'precision': 0.8693895042194093, 'recall': 0.8670886075949367}\n",
      "Epoch 11/15 | Train Loss: 0.1916 | Val Metrics: {'loss': 0.2991315580904484, 'accuracy': 0.870253164556962, 'f1': 0.8705910570384667, 'precision': 0.8762662529953409, 'recall': 0.870253164556962}\n",
      "Epoch 12/15 | Train Loss: 0.2036 | Val Metrics: {'loss': 0.3055098235607147, 'accuracy': 0.8670886075949367, 'f1': 0.867465565580409, 'precision': 0.8711234500261021, 'recall': 0.8670886075949367}\n",
      "Epoch 13/15 | Train Loss: 0.1802 | Val Metrics: {'loss': 0.32579442858695984, 'accuracy': 0.8734177215189873, 'f1': 0.8730910260187266, 'precision': 0.8794278981980341, 'recall': 0.8734177215189873}\n",
      "Epoch 14/15 | Train Loss: 0.1915 | Val Metrics: {'loss': 0.30683712735772134, 'accuracy': 0.8765822784810127, 'f1': 0.8767546432653752, 'precision': 0.8814918570740525, 'recall': 0.8765822784810127}\n",
      "Epoch 15/15 | Train Loss: 0.1806 | Val Metrics: {'loss': 0.30812607407569886, 'accuracy': 0.8765822784810127, 'f1': 0.8768880473725809, 'precision': 0.8824614806777508, 'recall': 0.8765822784810127}\n"
     ]
    }
   ],
   "source": [
    "print(\"Training Baseline Model...\")\n",
    "trained_baseline = train_and_validate(baseline_model, train_loader, test_loader)"
   ]
  },
  {
   "cell_type": "code",
   "execution_count": 22,
   "metadata": {
    "colab": {
     "base_uri": "https://localhost:8080/"
    },
    "id": "EX5KS0UDyZ7W",
    "outputId": "e260cc72-5325-4e63-e0bd-32817e79b1d1"
   },
   "outputs": [
    {
     "name": "stdout",
     "output_type": "stream",
     "text": [
      "\n",
      "Training Enhanced Model...\n",
      "Epoch 1/15 | Train Loss: 0.4302 | Val Metrics: {'loss': 1.3745332419872285, 'accuracy': 0.7468354430379747, 'f1': 0.7406149402202594, 'precision': 0.7524195955434425, 'recall': 0.7468354430379747}\n",
      "Epoch 2/15 | Train Loss: 0.3598 | Val Metrics: {'loss': 0.9373920172452926, 'accuracy': 0.7911392405063291, 'f1': 0.7931889933249641, 'precision': 0.8285136023888156, 'recall': 0.7911392405063291}\n",
      "Epoch 3/15 | Train Loss: 0.3230 | Val Metrics: {'loss': 1.9396553575992583, 'accuracy': 0.6772151898734177, 'f1': 0.681550411586547, 'precision': 0.7945620583809341, 'recall': 0.6772151898734177}\n",
      "Epoch 4/15 | Train Loss: 0.3621 | Val Metrics: {'loss': 1.6172076046466828, 'accuracy': 0.7151898734177216, 'f1': 0.7234515582914968, 'precision': 0.7890006172320712, 'recall': 0.7151898734177216}\n",
      "Epoch 5/15 | Train Loss: 0.3408 | Val Metrics: {'loss': 0.3700097516179085, 'accuracy': 0.8259493670886076, 'f1': 0.82712217589174, 'precision': 0.8309248404730727, 'recall': 0.8259493670886076}\n",
      "Epoch 6/15 | Train Loss: 0.2640 | Val Metrics: {'loss': 0.3618682697415352, 'accuracy': 0.8575949367088608, 'f1': 0.8577953395403183, 'precision': 0.8608167397602104, 'recall': 0.8575949367088608}\n",
      "Epoch 7/15 | Train Loss: 0.2502 | Val Metrics: {'loss': 0.33896719068288805, 'accuracy': 0.8670886075949367, 'f1': 0.8673446616190116, 'precision': 0.8717500976561419, 'recall': 0.8670886075949367}\n",
      "Epoch 8/15 | Train Loss: 0.2243 | Val Metrics: {'loss': 0.34121921136975286, 'accuracy': 0.8670886075949367, 'f1': 0.866724826836228, 'precision': 0.8690281148946344, 'recall': 0.8670886075949367}\n",
      "Epoch 9/15 | Train Loss: 0.2030 | Val Metrics: {'loss': 0.341035982966423, 'accuracy': 0.870253164556962, 'f1': 0.870139776476804, 'precision': 0.8711013350858501, 'recall': 0.870253164556962}\n",
      "Epoch 10/15 | Train Loss: 0.1883 | Val Metrics: {'loss': 0.33900685235857964, 'accuracy': 0.879746835443038, 'f1': 0.8792639608336427, 'precision': 0.8837727611182562, 'recall': 0.879746835443038}\n",
      "Epoch 11/15 | Train Loss: 0.1805 | Val Metrics: {'loss': 0.3326303862035275, 'accuracy': 0.8734177215189873, 'f1': 0.8732968305519933, 'precision': 0.8739323009653011, 'recall': 0.8734177215189873}\n",
      "Epoch 12/15 | Train Loss: 0.1701 | Val Metrics: {'loss': 0.3205944292247295, 'accuracy': 0.8924050632911392, 'f1': 0.8920145508323354, 'precision': 0.8956145426349466, 'recall': 0.8924050632911392}\n",
      "Epoch 13/15 | Train Loss: 0.1748 | Val Metrics: {'loss': 0.3378377676010132, 'accuracy': 0.8765822784810127, 'f1': 0.8765605438864932, 'precision': 0.8778984186460688, 'recall': 0.8765822784810127}\n",
      "Epoch 14/15 | Train Loss: 0.1752 | Val Metrics: {'loss': 0.3525379151105881, 'accuracy': 0.8734177215189873, 'f1': 0.8730597218288975, 'precision': 0.8786745954467473, 'recall': 0.8734177215189873}\n",
      "Epoch 15/15 | Train Loss: 0.1659 | Val Metrics: {'loss': 0.3304463721811771, 'accuracy': 0.8765822784810127, 'f1': 0.8764516878880336, 'precision': 0.8773682171631926, 'recall': 0.8765822784810127}\n"
     ]
    }
   ],
   "source": [
    "print(\"\\nTraining Enhanced Model...\")\n",
    "trained_enhanced = train_and_validate(enhanced_model, train_loader, test_loader)"
   ]
  },
  {
   "cell_type": "code",
   "execution_count": 23,
   "metadata": {
    "id": "cKRbfYg55NHy"
   },
   "outputs": [],
   "source": [
    "data_dir = \"/content/Dataset_BUSI_with_GT\"\n",
    "image_paths, labels = load_image_paths_and_labels(data_dir)\n",
    "categories = os.listdir(data_dir)"
   ]
  },
  {
   "cell_type": "code",
   "execution_count": 24,
   "metadata": {
    "colab": {
     "base_uri": "https://localhost:8080/"
    },
    "id": "HHiq-Unk5NEi",
    "outputId": "e8f66af9-1d34-4910-b5d1-18de6728d53c"
   },
   "outputs": [
    {
     "name": "stdout",
     "output_type": "stream",
     "text": [
      "Category distribution: {0: 266, 1: 421, 2: 891}\n"
     ]
    }
   ],
   "source": [
    "counts = Counter(labels)\n",
    "print(\"Category distribution:\", dict(counts))"
   ]
  },
  {
   "cell_type": "code",
   "execution_count": 25,
   "metadata": {
    "colab": {
     "base_uri": "https://localhost:8080/"
    },
    "id": "SxiGqpkC5NCa",
    "outputId": "70b085fb-7a9f-4f0e-9862-871149483e0a"
   },
   "outputs": [
    {
     "name": "stdout",
     "output_type": "stream",
     "text": [
      "Image Sizes: Min (190x310), Max (1048x719), Avg (616.1x501.6)\n"
     ]
    }
   ],
   "source": [
    "sizes = [Image.open(p).size for p in image_paths]\n",
    "widths, heights = zip(*sizes)\n",
    "print(f\"Image Sizes: Min ({min(widths)}x{min(heights)}), Max ({max(widths)}x{max(heights)}), Avg ({np.mean(widths):.1f}x{np.mean(heights):.1f})\")"
   ]
  },
  {
   "cell_type": "code",
   "execution_count": 26,
   "metadata": {
    "id": "5IFw_qhU5NAk"
   },
   "outputs": [],
   "source": [
    "transform = transforms.Compose([\n",
    "    transforms.Resize((128, 128)),\n",
    "    transforms.ToTensor(),\n",
    "    transforms.Normalize(mean=[0.485, 0.456, 0.406], std=[0.229, 0.224, 0.225]),\n",
    "])"
   ]
  },
  {
   "cell_type": "code",
   "execution_count": 27,
   "metadata": {
    "id": "gXsWuHpA5M-w"
   },
   "outputs": [],
   "source": [
    "from sklearn.model_selection import train_test_split\n",
    "\n",
    "X_train, X_test, y_train, y_test = train_test_split(image_paths, labels, test_size=0.2, random_state=42)\n"
   ]
  },
  {
   "cell_type": "code",
   "execution_count": 28,
   "metadata": {
    "id": "Fy6bDevo5M71"
   },
   "outputs": [],
   "source": [
    "train_loader = DataLoader(BreastCancerDataset(X_train, y_train, transform), batch_size=32, shuffle=True)\n",
    "test_loader = DataLoader(BreastCancerDataset(X_test, y_test, transform), batch_size=32, shuffle=False)"
   ]
  },
  {
   "cell_type": "code",
   "execution_count": 29,
   "metadata": {
    "colab": {
     "base_uri": "https://localhost:8080/"
    },
    "id": "5pgIKhYt5M4x",
    "outputId": "97135348-5552-44dc-c66e-2718b5d5815b"
   },
   "outputs": [
    {
     "name": "stderr",
     "output_type": "stream",
     "text": [
      "/usr/local/lib/python3.10/dist-packages/torchvision/models/_utils.py:208: UserWarning: The parameter 'pretrained' is deprecated since 0.13 and may be removed in the future, please use 'weights' instead.\n",
      "  warnings.warn(\n",
      "/usr/local/lib/python3.10/dist-packages/torchvision/models/_utils.py:223: UserWarning: Arguments other than a weight enum or `None` for 'weights' are deprecated since 0.13 and may be removed in the future. The current behavior is equivalent to passing `weights=ResNet50_Weights.IMAGENET1K_V1`. You can also use `weights=ResNet50_Weights.DEFAULT` to get the most up-to-date weights.\n",
      "  warnings.warn(msg)\n"
     ]
    }
   ],
   "source": [
    "model = models.resnet50(pretrained=True)\n",
    "model.fc = nn.Linear(model.fc.in_features, len(categories))"
   ]
  },
  {
   "cell_type": "code",
   "execution_count": 30,
   "metadata": {
    "colab": {
     "base_uri": "https://localhost:8080/"
    },
    "id": "dX4d9n165M2j",
    "outputId": "2b908a23-8077-41b7-95e5-6a182504673a"
   },
   "outputs": [
    {
     "name": "stdout",
     "output_type": "stream",
     "text": [
      "Epoch 1/15 | Train Loss: 0.7627 | Val Metrics: {'loss': 0.9218374937772751, 'accuracy': 0.6645569620253164, 'f1': 0.6642488029204001, 'precision': 0.777905746051096, 'recall': 0.6645569620253164}\n",
      "Epoch 2/15 | Train Loss: 0.4385 | Val Metrics: {'loss': 1.456483244895935, 'accuracy': 0.5917721518987342, 'f1': 0.5723084938272278, 'precision': 0.7513507552531401, 'recall': 0.5917721518987342}\n",
      "Epoch 3/15 | Train Loss: 0.4367 | Val Metrics: {'loss': 0.5739918291568756, 'accuracy': 0.7911392405063291, 'f1': 0.7955718255193401, 'precision': 0.8339478961577642, 'recall': 0.7911392405063291}\n",
      "Epoch 4/15 | Train Loss: 0.3051 | Val Metrics: {'loss': 0.47700878977775574, 'accuracy': 0.8354430379746836, 'f1': 0.8302773856541087, 'precision': 0.8530871625808334, 'recall': 0.8354430379746836}\n",
      "Epoch 5/15 | Train Loss: 0.3080 | Val Metrics: {'loss': 0.43189420104026793, 'accuracy': 0.8132911392405063, 'f1': 0.8151580230058068, 'precision': 0.8291743514563004, 'recall': 0.8132911392405063}\n",
      "Epoch 6/15 | Train Loss: 0.2158 | Val Metrics: {'loss': 0.3477658346295357, 'accuracy': 0.870253164556962, 'f1': 0.8715058016877638, 'precision': 0.880807605588794, 'recall': 0.870253164556962}\n",
      "Epoch 7/15 | Train Loss: 0.1331 | Val Metrics: {'loss': 0.37238494902849195, 'accuracy': 0.8765822784810127, 'f1': 0.8770881855057387, 'precision': 0.8819280227508075, 'recall': 0.8765822784810127}\n",
      "Epoch 8/15 | Train Loss: 0.1170 | Val Metrics: {'loss': 0.4467684879899025, 'accuracy': 0.8449367088607594, 'f1': 0.8445464137853569, 'precision': 0.8564818325218868, 'recall': 0.8449367088607594}\n",
      "Epoch 9/15 | Train Loss: 0.0965 | Val Metrics: {'loss': 0.3974149599671364, 'accuracy': 0.8829113924050633, 'f1': 0.882471955074592, 'precision': 0.8874571090966137, 'recall': 0.8829113924050633}\n",
      "Epoch 10/15 | Train Loss: 0.0860 | Val Metrics: {'loss': 0.3609961472451687, 'accuracy': 0.8892405063291139, 'f1': 0.8891518432077781, 'precision': 0.8921199054110447, 'recall': 0.8892405063291139}\n",
      "Epoch 11/15 | Train Loss: 0.0621 | Val Metrics: {'loss': 0.40642607882618903, 'accuracy': 0.8924050632911392, 'f1': 0.8921489318716856, 'precision': 0.894640995129319, 'recall': 0.8924050632911392}\n",
      "Epoch 12/15 | Train Loss: 0.0601 | Val Metrics: {'loss': 0.39978053122758866, 'accuracy': 0.8955696202531646, 'f1': 0.8951277436244544, 'precision': 0.8972113046704344, 'recall': 0.8955696202531646}\n",
      "Epoch 13/15 | Train Loss: 0.0651 | Val Metrics: {'loss': 0.40269210264086724, 'accuracy': 0.879746835443038, 'f1': 0.880667089026895, 'precision': 0.8882073522872355, 'recall': 0.879746835443038}\n",
      "Epoch 14/15 | Train Loss: 0.0611 | Val Metrics: {'loss': 0.40426448211073873, 'accuracy': 0.8924050632911392, 'f1': 0.8923288815693878, 'precision': 0.8956639469860732, 'recall': 0.8924050632911392}\n",
      "Epoch 15/15 | Train Loss: 0.0581 | Val Metrics: {'loss': 0.40105345100164413, 'accuracy': 0.8987341772151899, 'f1': 0.8982529836251733, 'precision': 0.9007235427538284, 'recall': 0.8987341772151899}\n"
     ]
    }
   ],
   "source": [
    "model = model.to(device)\n",
    "trained_model = train_and_validate(model, train_loader, test_loader, epochs=15)"
   ]
  },
  {
   "cell_type": "code",
   "execution_count": 31,
   "metadata": {
    "colab": {
     "base_uri": "https://localhost:8080/"
    },
    "id": "szmgP7gL5M0n",
    "outputId": "f51d99b9-a37f-42f2-db5a-35063a736115"
   },
   "outputs": [
    {
     "name": "stdout",
     "output_type": "stream",
     "text": [
      "Baseline Model Metrics: {'loss': 0.37995367497205734, 'accuracy': 0.879746835443038, 'f1': 0.8796110396551052, 'precision': 0.8808656418264, 'recall': 0.879746835443038}\n"
     ]
    }
   ],
   "source": [
    "baseline_metrics = validate_model(trained_baseline, test_loader, nn.CrossEntropyLoss())\n",
    "print(\"Baseline Model Metrics:\", baseline_metrics)"
   ]
  },
  {
   "cell_type": "code",
   "execution_count": 32,
   "metadata": {
    "colab": {
     "base_uri": "https://localhost:8080/"
    },
    "id": "lw-yZk8-5Mym",
    "outputId": "586ca40f-1fe6-4ae9-8673-5c6a59d63490"
   },
   "outputs": [
    {
     "name": "stdout",
     "output_type": "stream",
     "text": [
      "Enhanced Model Metrics: {'loss': 0.30996645241975784, 'accuracy': 0.8765822784810127, 'f1': 0.8764516878880336, 'precision': 0.8773682171631926, 'recall': 0.8765822784810127}\n"
     ]
    }
   ],
   "source": [
    "enhanced_metrics = validate_model(trained_enhanced, test_loader, nn.CrossEntropyLoss())\n",
    "print(\"Enhanced Model Metrics:\", enhanced_metrics)\n"
   ]
  },
  {
   "cell_type": "code",
   "execution_count": 33,
   "metadata": {
    "colab": {
     "base_uri": "https://localhost:8080/"
    },
    "id": "EV7oR3Nc5Mvq",
    "outputId": "d02ad55c-251a-40f2-804b-19383d6c8b35"
   },
   "outputs": [
    {
     "name": "stdout",
     "output_type": "stream",
     "text": [
      "Metrics after adding new data: {'loss': 0.3614355232566595, 'accuracy': 0.8987341772151899, 'f1': 0.8982529836251733, 'precision': 0.9007235427538284, 'recall': 0.8987341772151899}\n"
     ]
    }
   ],
   "source": [
    "new_metrics = validate_model(trained_model, test_loader, nn.CrossEntropyLoss())\n",
    "print(\"Metrics after adding new data:\", new_metrics)"
   ]
  },
  {
   "cell_type": "code",
   "execution_count": 33,
   "metadata": {
    "id": "JhmkUm4o5MqU"
   },
   "outputs": [],
   "source": []
  }
 ],
 "metadata": {
  "accelerator": "GPU",
  "colab": {
   "gpuType": "T4",
   "provenance": []
  },
  "kernelspec": {
   "display_name": "Python 3",
   "name": "python3"
  },
  "language_info": {
   "name": "python"
  }
 },
 "nbformat": 4,
 "nbformat_minor": 0
}
